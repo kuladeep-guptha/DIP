{
 "cells": [
  {
   "cell_type": "code",
   "execution_count": 1,
   "id": "349da1f0",
   "metadata": {},
   "outputs": [],
   "source": [
    "import cv2 \n",
    "  \n",
    "# loading images \n",
    "# importing logo that we are going to use \n",
    "logo = cv2.imread(\"2.jpg\") \n",
    "  \n",
    "# importing image on which we are going to \n",
    "# apply watermark \n",
    "img = cv2.imread(\"1.jpg\") \n",
    "  \n",
    "# calculating dimensions \n",
    "# height and width of the logo \n",
    "h_logo, w_logo, _ = logo.shape \n",
    "  \n",
    "# height and width of the image \n",
    "h_img, w_img, _ = img.shape \n",
    "  \n",
    "# calculating coordinates of center \n",
    "# calculating center, where we are going to  \n",
    "# place our watermark \n",
    "center_y = int(h_img/2) \n",
    "center_x = int(w_img/2) \n",
    "  \n",
    "# calculating from top, bottom, right and left \n",
    "top_y = center_y - int(h_logo/2) \n",
    "left_x = center_x - int(w_logo/2) \n",
    "bottom_y = top_y + h_logo \n",
    "right_x = left_x + w_logo \n",
    "  \n",
    "# adding watermark to the image \n",
    "destination = img[top_y:bottom_y, left_x:right_x] \n",
    "result = cv2.addWeighted(destination, 1, logo, 0.5, 0) \n",
    "  \n",
    "# displaying and saving image \n",
    "img[top_y:bottom_y, left_x:right_x] = result \n",
    "cv2.imwrite(\"watermarked.jpg\", img) \n",
    "cv2.imshow(\"Watermarked Image\", img) \n",
    "cv2.waitKey(0) \n",
    "cv2.destroyAllWindows() "
   ]
  },
  {
   "cell_type": "code",
   "execution_count": null,
   "id": "ab521a0d",
   "metadata": {},
   "outputs": [],
   "source": []
  }
 ],
 "metadata": {
  "kernelspec": {
   "display_name": "Python 3 (ipykernel)",
   "language": "python",
   "name": "python3"
  },
  "language_info": {
   "codemirror_mode": {
    "name": "ipython",
    "version": 3
   },
   "file_extension": ".py",
   "mimetype": "text/x-python",
   "name": "python",
   "nbconvert_exporter": "python",
   "pygments_lexer": "ipython3",
   "version": "3.9.12"
  }
 },
 "nbformat": 4,
 "nbformat_minor": 5
}
