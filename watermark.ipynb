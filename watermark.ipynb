{
 "cells": [
  {
   "cell_type": "code",
   "execution_count": null,
   "id": "f01575a9",
   "metadata": {},
   "outputs": [],
   "source": [
    "from PyPDF2 import PdfFileMerger, PdfFileReader, PdfFileWriter\n",
    "\n",
    "pdf_file = \"\"\n",
    "watermark = \"\"\n",
    "merged = \"C:/Users/11359023/Desktop/merged.pdf\"\n",
    "\n",
    "with open(pdf_file, \"rb\") as input_file, open(watermark, \"rb\") as watermark_file:\n",
    "    input_pdf = PdfFileReader(input_file)\n",
    "    watermark_pdf = PdfFileReader(watermark_file)\n",
    "    watermark_page = watermark_pdf.getPage(0)\n",
    "\n",
    "    output = PdfFileWriter()\n",
    "\n",
    "    for i in range(input_pdf.getNumPages()):\n",
    "        pdf_page = input_pdf.getPage(i)\n",
    "        pdf_page.merge_page(watermark_page)\n",
    "        output.addPage(pdf_page)\n",
    "\n",
    "    with open(merged, \"wb\") as merged_file:\n",
    "        output.write(merged_file)"
   ]
  }
 ],
 "metadata": {
  "kernelspec": {
   "display_name": "Python 3 (ipykernel)",
   "language": "python",
   "name": "python3"
  },
  "language_info": {
   "codemirror_mode": {
    "name": "ipython",
    "version": 3
   },
   "file_extension": ".py",
   "mimetype": "text/x-python",
   "name": "python",
   "nbconvert_exporter": "python",
   "pygments_lexer": "ipython3",
   "version": "3.9.12"
  }
 },
 "nbformat": 4,
 "nbformat_minor": 5
}
